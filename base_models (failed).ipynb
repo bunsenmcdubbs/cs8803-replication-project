{
 "cells": [
  {
   "cell_type": "markdown",
   "metadata": {},
   "source": [
    "# Base Models"
   ]
  },
  {
   "cell_type": "markdown",
   "metadata": {},
   "source": [
    "## Sentiment Classifier Feature Extraction"
   ]
  },
  {
   "cell_type": "code",
   "execution_count": 82,
   "metadata": {},
   "outputs": [
    {
     "data": {
      "text/plain": [
       "54"
      ]
     },
     "execution_count": 82,
     "metadata": {},
     "output_type": "execute_result"
    }
   ],
   "source": [
    "from glob import glob\n",
    "import os\n",
    "preproc_train_data_dir = './data/processed/mpqa'\n",
    "filepaths = glob(os.path.join(preproc_train_data_dir, '*.json'))\n",
    "len(filepaths)"
   ]
  },
  {
   "cell_type": "code",
   "execution_count": 83,
   "metadata": {},
   "outputs": [],
   "source": [
    "from src.base_models import sentiment_lexicon\n",
    "sent_lex_path = 'data/subjectivity_clues_hltemnlp05/subjclueslen1-HLTEMNLP05.tff'\n",
    "sl, _, _ = sentiment_lexicon.SentimentLexicon.from_mpqa_file(sent_lex_path)"
   ]
  },
  {
   "cell_type": "code",
   "execution_count": 152,
   "metadata": {
    "scrolled": false
   },
   "outputs": [
    {
     "name": "stdout",
     "output_type": "stream",
     "text": [
      "Extracting features for 54 documents\n",
      "Processing file #0\t04.22.14-2532.json\n",
      "./data/base_model/sentiment/mpqa/04.22.14-2532.json\n",
      "Processing file #1\t04.51.05-27505.json\n",
      "./data/base_model/sentiment/mpqa/04.51.05-27505.json\n",
      "Processing file #2\t05.20.33-11163.json\n",
      "./data/base_model/sentiment/mpqa/05.20.33-11163.json\n",
      "Processing file #3\t06.10.04-18139.json\n",
      "./data/base_model/sentiment/mpqa/06.10.04-18139.json\n",
      "Processing file #4\t06.12.31-26764.json\n",
      "./data/base_model/sentiment/mpqa/06.12.31-26764.json\n",
      "Processing file #5\t06.28.56-23638.json\n",
      "./data/base_model/sentiment/mpqa/06.28.56-23638.json\n",
      "Processing file #6\t07.05.30-9348.json\n",
      "./data/base_model/sentiment/mpqa/07.05.30-9348.json\n",
      "Processing file #7\t08.21.04-13527.json\n",
      "./data/base_model/sentiment/mpqa/08.21.04-13527.json\n",
      "Processing file #8\t08.36.15-7509.json\n",
      "./data/base_model/sentiment/mpqa/08.36.15-7509.json\n",
      "Processing file #9\t08.39.09-12713.json\n",
      "./data/base_model/sentiment/mpqa/08.39.09-12713.json\n",
      "Processing file #10\t08.40.56-18707.json\n",
      "./data/base_model/sentiment/mpqa/08.40.56-18707.json\n",
      "Processing file #11\t08.47.00-17401.json\n",
      "./data/base_model/sentiment/mpqa/08.47.00-17401.json\n",
      "Processing file #12\t08.54.29-27700.json\n",
      "./data/base_model/sentiment/mpqa/08.54.29-27700.json\n",
      "Processing file #13\t09.53.15-23595.json\n",
      "./data/base_model/sentiment/mpqa/09.53.15-23595.json\n",
      "Processing file #14\t10.03.26-15373.json\n",
      "./data/base_model/sentiment/mpqa/10.03.26-15373.json\n",
      "Processing file #15\t10.12.58-29108.json\n",
      "./data/base_model/sentiment/mpqa/10.12.58-29108.json\n",
      "Processing file #16\t10.24.29-21670.json\n",
      "./data/base_model/sentiment/mpqa/10.24.29-21670.json\n",
      "Processing file #17\t11.04.20-23621.json\n",
      "./data/base_model/sentiment/mpqa/11.04.20-23621.json\n",
      "Processing file #18\t11.05.55-12013.json\n",
      "./data/base_model/sentiment/mpqa/11.05.55-12013.json\n",
      "Processing file #19\t11.21.37-22256.json\n",
      "./data/base_model/sentiment/mpqa/11.21.37-22256.json\n",
      "Processing file #20\t11.35.22-9439.json\n",
      "./data/base_model/sentiment/mpqa/11.35.22-9439.json\n",
      "Processing file #21\t12.15.47-5091.json\n",
      "./data/base_model/sentiment/mpqa/12.15.47-5091.json\n",
      "Processing file #22\t12.21.28-26118.json\n",
      "./data/base_model/sentiment/mpqa/12.21.28-26118.json\n",
      "Processing file #23\t13.08.06-1812.json\n",
      "./data/base_model/sentiment/mpqa/13.08.06-1812.json\n",
      "Processing file #24\t13.21.23-8227.json\n",
      "./data/base_model/sentiment/mpqa/13.21.23-8227.json\n",
      "Processing file #25\t13.24.42-23228.json\n",
      "./data/base_model/sentiment/mpqa/13.24.42-23228.json\n",
      "Processing file #26\t14.06.39-26143.json\n",
      "./data/base_model/sentiment/mpqa/14.06.39-26143.json\n",
      "Processing file #27\t15.26.56-25086.json\n",
      "./data/base_model/sentiment/mpqa/15.26.56-25086.json\n",
      "Processing file #28\t15.36.10-18917.json\n",
      "./data/base_model/sentiment/mpqa/15.36.10-18917.json\n",
      "Processing file #29\t15.59.08-16874.json\n",
      "./data/base_model/sentiment/mpqa/15.59.08-16874.json\n",
      "Processing file #30\t16.01.44-19040.json\n",
      "./data/base_model/sentiment/mpqa/16.01.44-19040.json\n",
      "Processing file #31\t16.03.54-17435.json\n",
      "./data/base_model/sentiment/mpqa/16.03.54-17435.json\n",
      "Processing file #32\t17.55.10-20068.json\n",
      "./data/base_model/sentiment/mpqa/17.55.10-20068.json\n",
      "Processing file #33\t20.13.06-23605.json\n",
      "./data/base_model/sentiment/mpqa/20.13.06-23605.json\n",
      "Processing file #34\t20.20.10-3414.json\n",
      "./data/base_model/sentiment/mpqa/20.20.10-3414.json\n",
      "Processing file #35\t20.26.14-23928.json\n",
      "./data/base_model/sentiment/mpqa/20.26.14-23928.json\n",
      "Processing file #36\t20.28.15-21486.json\n",
      "./data/base_model/sentiment/mpqa/20.28.15-21486.json\n",
      "Processing file #37\t20.31.54-28680.json\n",
      "./data/base_model/sentiment/mpqa/20.31.54-28680.json\n",
      "Processing file #38\t20.33.16-3417.json\n",
      "./data/base_model/sentiment/mpqa/20.33.16-3417.json\n",
      "Processing file #39\t20.42.47-22260.json\n",
      "./data/base_model/sentiment/mpqa/20.42.47-22260.json\n",
      "Processing file #40\t20.45.06-5529.json\n",
      "./data/base_model/sentiment/mpqa/20.45.06-5529.json\n",
      "Processing file #41\t20.46.39-9348.json\n",
      "./data/base_model/sentiment/mpqa/20.46.39-9348.json\n",
      "Processing file #42\t20.46.47-22286.json\n",
      "./data/base_model/sentiment/mpqa/20.46.47-22286.json\n",
      "Processing file #43\t20.46.58-22510.json\n",
      "./data/base_model/sentiment/mpqa/20.46.58-22510.json\n",
      "Processing file #44\t20.49.12-24038.json\n",
      "./data/base_model/sentiment/mpqa/20.49.12-24038.json\n",
      "Processing file #45\t20.55.24-19278.json\n",
      "./data/base_model/sentiment/mpqa/20.55.24-19278.json\n",
      "Processing file #46\t20.57.35-19171.json\n",
      "./data/base_model/sentiment/mpqa/20.57.35-19171.json\n",
      "Processing file #47\t20.58.47-19000.json\n",
      "./data/base_model/sentiment/mpqa/20.58.47-19000.json\n",
      "Processing file #48\t21.01.04-6923.json\n",
      "./data/base_model/sentiment/mpqa/21.01.04-6923.json\n",
      "Processing file #49\t21.31.45-20536.json\n",
      "./data/base_model/sentiment/mpqa/21.31.45-20536.json\n",
      "Processing file #50\t21.37.46-9337.json\n",
      "./data/base_model/sentiment/mpqa/21.37.46-9337.json\n",
      "Processing file #51\t21.39.02-16166.json\n",
      "./data/base_model/sentiment/mpqa/21.39.02-16166.json\n",
      "Processing file #52\t21.53.09-11428.json\n",
      "./data/base_model/sentiment/mpqa/21.53.09-11428.json\n",
      "Processing file #53\t22.11.06-28210.json\n",
      "./data/base_model/sentiment/mpqa/22.11.06-28210.json\n"
     ]
    }
   ],
   "source": [
    "from enum import Enum\n",
    "import json\n",
    "\n",
    "from src import util\n",
    "from src.base_models import sentiment\n",
    "from src.preproc import entity_extractor\n",
    "\n",
    "outfiledir = './data/base_model/sentiment/mpqa'\n",
    "print(\"Extracting features for {} documents\".format(len(filepaths)))\n",
    "for i, infilepath in enumerate(filepaths):\n",
    "    infilename = os.path.basename(infilepath)\n",
    "    print(\"Processing file #{}\\t{}\".format(i, infilename))\n",
    "    with open(infilepath, 'r') as infile:\n",
    "        sentences = json.load(infile)['sentences']\n",
    "        util.write_deps_to_tokens(sentences)\n",
    "        ee = entity_extractor.EntityExtractor.from_sentences_with_entity_ids(sentences)\n",
    "        features = sentiment.get_features(sl, sentences, ee)\n",
    "    \n",
    "    outfilepath = os.path.join(outfiledir, infilename)\n",
    "    print(outfilepath)\n",
    "\n",
    "    features = [\n",
    "        {\n",
    "            'holder': holder,\n",
    "            'target': target,\n",
    "            'features': [\n",
    "                (\n",
    "                    key, \n",
    "                    val.value if isinstance(val, Enum) else val\n",
    "                ) for key, val in feats\n",
    "            ]\n",
    "        } for (holder, target), feats in features.items()\n",
    "    ]\n",
    "    with open(outfilepath, 'w+') as outfile:\n",
    "        json.dump(features, outfile)"
   ]
  },
  {
   "cell_type": "code",
   "execution_count": 151,
   "metadata": {},
   "outputs": [],
   "source": [
    "from importlib import reload\n",
    "reload(sentiment);\n",
    "reload(util);\n",
    "from src.preproc import entity_extractor\n",
    "reload(entity_extractor);"
   ]
  },
  {
   "cell_type": "code",
   "execution_count": 85,
   "metadata": {},
   "outputs": [
    {
     "data": {
      "text/plain": [
       "{'after': ' ',\n",
       " 'before': ' ',\n",
       " 'characterOffsetBegin': 455,\n",
       " 'characterOffsetEnd': 462,\n",
       " 'entity_id': ['wikidata', 'Q600040'],\n",
       " 'governor': (32, 'compound'),\n",
       " 'index': 31,\n",
       " 'lemma': 'Foreign',\n",
       " 'ner': 'ORGANIZATION',\n",
       " 'originalText': 'Foreign',\n",
       " 'pos': 'NNP',\n",
       " 'speaker': 'PER0',\n",
       " 'word': 'Foreign'}"
      ]
     },
     "execution_count": 85,
     "metadata": {},
     "output_type": "execute_result"
    }
   ],
   "source": [
    "sentences[1]['tokens'][30]"
   ]
  },
  {
   "cell_type": "code",
   "execution_count": 86,
   "metadata": {},
   "outputs": [
    {
     "data": {
      "text/plain": [
       "{'after': ' ',\n",
       " 'before': ' ',\n",
       " 'characterOffsetBegin': 362,\n",
       " 'characterOffsetEnd': 365,\n",
       " 'entity_id': ['wikidata', 'Q843'],\n",
       " 'governor': (14, 'det'),\n",
       " 'index': 14,\n",
       " 'lemma': 'the',\n",
       " 'ner': 'O',\n",
       " 'originalText': 'the',\n",
       " 'pos': 'DT',\n",
       " 'speaker': '22',\n",
       " 'word': 'the'}"
      ]
     },
     "execution_count": 86,
     "metadata": {},
     "output_type": "execute_result"
    }
   ],
   "source": [
    "sentences[1]['tokens'][13]"
   ]
  },
  {
   "cell_type": "code",
   "execution_count": 92,
   "metadata": {},
   "outputs": [
    {
     "data": {
      "text/plain": [
       "[((None, None), 27),\n",
       " ((<DepDirection.GOV: 1>, 'nsubj'), 25),\n",
       " ((<DepDirection.DEP: 2>, 'ccomp'), 3),\n",
       " ((<DepDirection.DEP: 2>, 'xcomp'), 5),\n",
       " ((<DepDirection.DEP: 2>, 'dobj'), 9),\n",
       " ((<DepDirection.DEP: 2>, 'nmod:by'), 14),\n",
       " ((<DepDirection.DEP: 2>, 'det'), 13)]"
      ]
     },
     "execution_count": 92,
     "metadata": {},
     "output_type": "execute_result"
    }
   ],
   "source": [
    "util.find_dep_path(sentences[1]['tokens'], 27, 13)"
   ]
  },
  {
   "cell_type": "code",
   "execution_count": 94,
   "metadata": {},
   "outputs": [
    {
     "data": {
      "text/plain": [
       "[((None, None), 13),\n",
       " ((<DepDirection.GOV: 1>, 'det'), 14),\n",
       " ((<DepDirection.GOV: 1>, 'nmod:by'), 9),\n",
       " ((<DepDirection.GOV: 1>, 'dobj'), 5),\n",
       " ((<DepDirection.GOV: 1>, 'xcomp'), 3),\n",
       " ((<DepDirection.GOV: 1>, 'ccomp'), 25),\n",
       " ((<DepDirection.DEP: 2>, 'nsubj'), 27)]"
      ]
     },
     "execution_count": 94,
     "metadata": {},
     "output_type": "execute_result"
    }
   ],
   "source": [
    "util.find_dep_path(sentences[1]['tokens'], 13, 27)"
   ]
  },
  {
   "cell_type": "code",
   "execution_count": 95,
   "metadata": {},
   "outputs": [],
   "source": [
    "util.find_dep_path(sentences[1]['tokens'], 30, 27)"
   ]
  },
  {
   "cell_type": "code",
   "execution_count": 93,
   "metadata": {},
   "outputs": [
    {
     "data": {
      "text/plain": [
       "[((None, None), 27),\n",
       " ((<DepDirection.DEP: 2>, 'acl'), 28),\n",
       " ((<DepDirection.DEP: 2>, 'nmod:by'), 32),\n",
       " ((<DepDirection.DEP: 2>, 'compound'), 30)]"
      ]
     },
     "execution_count": 93,
     "metadata": {},
     "output_type": "execute_result"
    }
   ],
   "source": [
    "util.find_dep_path(sentences[1]['tokens'], 27, 30)"
   ]
  },
  {
   "cell_type": "code",
   "execution_count": 89,
   "metadata": {},
   "outputs": [
    {
     "data": {
      "text/plain": [
       "26"
      ]
     },
     "execution_count": 89,
     "metadata": {},
     "output_type": "execute_result"
    }
   ],
   "source": [
    "sentences[1]['dep_root']"
   ]
  },
  {
   "cell_type": "code",
   "execution_count": 98,
   "metadata": {},
   "outputs": [
    {
     "data": {
      "text/plain": [
       "{'after': ' ',\n",
       " 'before': ' ',\n",
       " 'characterOffsetBegin': 435,\n",
       " 'characterOffsetEnd': 444,\n",
       " 'dependents': {(26, 'det'), (28, 'acl')},\n",
       " 'governor': (25, 'nsubj'),\n",
       " 'index': 28,\n",
       " 'lemma': 'statement',\n",
       " 'ner': 'O',\n",
       " 'originalText': 'statement',\n",
       " 'pos': 'NN',\n",
       " 'speaker': 'PER0',\n",
       " 'word': 'statement'}"
      ]
     },
     "execution_count": 98,
     "metadata": {},
     "output_type": "execute_result"
    }
   ],
   "source": [
    "sentences[1]['tokens'][27]"
   ]
  }
 ],
 "metadata": {
  "kernelspec": {
   "display_name": "Python 3",
   "language": "python",
   "name": "python3"
  },
  "language_info": {
   "codemirror_mode": {
    "name": "ipython",
    "version": 3
   },
   "file_extension": ".py",
   "mimetype": "text/x-python",
   "name": "python",
   "nbconvert_exporter": "python",
   "pygments_lexer": "ipython3",
   "version": "3.6.3"
  }
 },
 "nbformat": 4,
 "nbformat_minor": 2
}
