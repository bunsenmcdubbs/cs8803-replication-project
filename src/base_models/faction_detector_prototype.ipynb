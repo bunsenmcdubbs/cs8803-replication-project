{
 "cells": [
  {
   "cell_type": "markdown",
   "metadata": {},
   "source": [
    "# Faction Detector\n",
    "\n"
   ]
  },
  {
   "cell_type": "code",
   "execution_count": 1,
   "metadata": {},
   "outputs": [
    {
     "name": "stdout",
     "output_type": "stream",
     "text": [
      "/Users/andrew/Documents/college/cs8803-css/replication-project/code\n"
     ]
    }
   ],
   "source": [
    "import os\n",
    "import sys\n",
    "preproc_path = os.path.abspath(os.path.join('../..'))\n",
    "print(preproc_path)\n",
    "if preproc_path not in sys.path:\n",
    "    sys.path.append(preproc_path)"
   ]
  },
  {
   "cell_type": "code",
   "execution_count": 2,
   "metadata": {},
   "outputs": [],
   "source": [
    "from src import util\n",
    "test_file = '../../data/database.mpqa.3.0/docs/20010926/23.17.57-23406'\n",
    "with open(test_file, 'r') as f:\n",
    "    parsed, sentences, coref_chains = util.load_from_text(f)"
   ]
  },
  {
   "cell_type": "code",
   "execution_count": 3,
   "metadata": {},
   "outputs": [],
   "source": [
    "import importlib\n",
    "from src.preproc import entity_extractor, annotate\n",
    "from src.base_models import sentiment_lexicon"
   ]
  },
  {
   "cell_type": "code",
   "execution_count": 7,
   "metadata": {},
   "outputs": [],
   "source": [
    "annotate.annotate(sentences, coref_chains)\n",
    "\n",
    "importlib.reload(entity_extractor);\n",
    "# create new EntityExtractor after annotating coref mentions\n",
    "ee = entity_extractor.EntityExtractor.from_sentences(sentences)\n",
    "util.write_deps_to_tokens(sentences)"
   ]
  },
  {
   "cell_type": "code",
   "execution_count": 12,
   "metadata": {},
   "outputs": [
    {
     "name": "stdout",
     "output_type": "stream",
     "text": [
      "['compound', 'compound']\n",
      "['compound', 'compound']\n",
      "['compound', 'compound']\n",
      "['compound', 'compound']\n",
      "['conj:and', 'compound']\n",
      "['compound', 'conj:and']\n",
      "['conj:and']\n",
      "['nmod:poss', 'compound']\n",
      "['conj:and']\n",
      "['compound', 'nmod:poss']\n",
      "['nmod:to', 'compound']\n",
      "['compound', 'nmod:to']\n",
      "['nmod:from', 'nmod:to']\n",
      "['nmod:to', 'nmod:from']\n"
     ]
    },
    {
     "data": {
      "text/plain": [
       "set()"
      ]
     },
     "execution_count": 12,
     "metadata": {},
     "output_type": "execute_result"
    }
   ],
   "source": [
    "from src.base_models import faction\n",
    "importlib.reload(faction);\n",
    "faction.get_factions(sentences, ee)"
   ]
  }
 ],
 "metadata": {
  "kernelspec": {
   "display_name": "Python 3",
   "language": "python",
   "name": "python3"
  },
  "language_info": {
   "codemirror_mode": {
    "name": "ipython",
    "version": 3
   },
   "file_extension": ".py",
   "mimetype": "text/x-python",
   "name": "python",
   "nbconvert_exporter": "python",
   "pygments_lexer": "ipython3",
   "version": "3.6.3"
  }
 },
 "nbformat": 4,
 "nbformat_minor": 2
}
