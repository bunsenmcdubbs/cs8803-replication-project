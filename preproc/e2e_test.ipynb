{
 "cells": [
  {
   "cell_type": "markdown",
   "metadata": {},
   "source": [
    "# Testing e2e Library Implementations"
   ]
  },
  {
   "cell_type": "markdown",
   "metadata": {},
   "source": [
    "## From MPQA Data"
   ]
  },
  {
   "cell_type": "code",
   "execution_count": 1,
   "metadata": {},
   "outputs": [],
   "source": [
    "from pycorenlp import StanfordCoreNLP\n",
    "nlp = StanfordCoreNLP('http://localhost:9000')"
   ]
  },
  {
   "cell_type": "code",
   "execution_count": 2,
   "metadata": {},
   "outputs": [],
   "source": [
    "import importlib\n",
    "import annotate, entity_extractor, util"
   ]
  },
  {
   "cell_type": "code",
   "execution_count": 3,
   "metadata": {},
   "outputs": [],
   "source": [
    "importlib.reload(annotate);\n",
    "importlib.reload(entity_extractor);\n",
    "importlib.reload(util);"
   ]
  },
  {
   "cell_type": "code",
   "execution_count": 4,
   "metadata": {},
   "outputs": [],
   "source": [
    "test_file = '../data/database.mpqa.3.0/docs/20010926/23.17.57-23406'\n",
    "text = open(test_file, 'r').read()\n",
    "output = nlp.annotate(text, properties={\n",
    "    'annotators': 'ner,coref',\n",
    "    'outputFormat': 'json'\n",
    "})\n",
    "sentences = output['sentences']\n",
    "coref_chains = output['corefs'].values()"
   ]
  },
  {
   "cell_type": "code",
   "execution_count": 5,
   "metadata": {},
   "outputs": [],
   "source": [
    "ee = entity_extractor.EntityExtractor.from_sentences(sentences)\n",
    "entity_extractor.merge_people_by_last_name(ee)\n",
    "annotate.mark_entities(sentences, ee)\n",
    "annotate.mark_coref_mentions(sentences, coref_chains)"
   ]
  },
  {
   "cell_type": "code",
   "execution_count": 6,
   "metadata": {},
   "outputs": [
    {
     "name": "stdout",
     "output_type": "stream",
     "text": [
      "(0, 1) TAIPEI ('wikidata', 'Q1867')\n",
      "(0, 6) AFP ('wikidata', 'Q40464')\n",
      "(0, 9) Taiwan ('wikidata', 'Q22502')\n",
      "(0, 11) Chen ('wikidata', 'Q22368')\n",
      "(0, 12) Shui-bian ('wikidata', 'Q22368')\n",
      "(0, 16) Taipei ('wikidata', 'Q1867')\n",
      "(0, 17) 's ('wikidata', 'Q1867')\n",
      "(0, 22) United ('wikidata', 'Q30')\n",
      "(0, 23) States ('wikidata', 'Q30')\n",
      "(0, 25) Washington ('wikidata', 'Q61')\n",
      "(0, 31) Afghanistan ('wikidata', 'Q889')\n",
      "(1, 11) Republic ('wikidata', 'Q865')\n",
      "(1, 12) of ('wikidata', 'Q865')\n",
      "(1, 13) China ('wikidata', 'Q865')\n",
      "(1, 15) Taiwan ('wikidata', 'Q22502')\n",
      "(1, 16) 's ('wikidata', 'Q22502')\n",
      "(1, 26) our ('wikidata', 'Q22502')\n",
      "(1, 31) George ('wikidata', 'Q42295')\n",
      "(1, 32) W. ('wikidata', 'Q42295')\n",
      "(1, 33) Bush ('wikidata', 'Q42295')\n",
      "(1, 45) Chen ('wikidata', 'Q804988')\n",
      "(1, 49) Oregon ('wikidata', 'Q824')\n",
      "(1, 51) John ('wikidata', 'Q740345')\n",
      "(1, 52) Kitzhaber ('wikidata', 'Q740345')\n",
      "(2, 1) Taiwan ('wikidata', 'Q22502')\n",
      "(2, 20) US ('wikidata', 'Q30')\n",
      "(2, 31) Chen ('wikidata', 'Q804988')\n",
      "(3, 3) ROC ('wikidata', 'Q865')\n",
      "(3, 9) US ('wikidata', 'Q30')\n",
      "(4, 1) Chen ('wikidata', 'Q804988')\n",
      "(4, 13) Americans ('wikidata', 'Q846570')\n",
      "(4, 21) New ('manual', 0)\n",
      "(4, 22) York ('manual', 0)\n",
      "(4, 23) World ('manual', 0)\n",
      "(4, 24) Trade ('manual', 0)\n",
      "(4, 25) Center ('manual', 0)\n",
      "(4, 27) Pentagon ('wikidata', 'Q127840')\n",
      "(5, 1) Chen ('wikidata', 'Q804988')\n",
      "(5, 6) the ('wikidata', 'Q30')\n",
      "(5, 7) US ('wikidata', 'Q30')\n",
      "(5, 15) Afghanistan ('wikidata', 'Q889')\n",
      "(5, 21) Usama ('wikidata', 'Q1317')\n",
      "(5, 22) bin ('wikidata', 'Q1317')\n",
      "(5, 23) Laden ('wikidata', 'Q1317')\n",
      "(6, 1) Taiwan ('wikidata', 'Q22502')\n",
      "(6, 2) 's ('wikidata', 'Q22502')\n",
      "(6, 5) Tien ('wikidata', 'Q9317972')\n",
      "(6, 6) Hung-mao ('wikidata', 'Q9317972')\n",
      "(6, 11) the ('wikidata', 'Q30')\n",
      "(6, 12) US ('wikidata', 'Q30')\n",
      "(6, 17) Taiwan ('wikidata', 'Q22502')\n",
      "(6, 35) Taipei ('wikidata', 'Q1867')\n",
      "(6, 37) Washington ('wikidata', 'Q61')\n",
      "(7, 7) Bush ('wikidata', 'Q42295')\n",
      "(7, 11) his ('wikidata', 'Q42295')\n",
      "(7, 13) Bill ('wikidata', 'Q1124')\n",
      "(7, 14) Clinton ('wikidata', 'Q1124')\n",
      "(7, 20) China ('wikidata', 'Q148')\n",
      "(8, 2) April ('wikidata', 'Q42295')\n",
      "(8, 3) Bush ('wikidata', 'Q42295')\n",
      "(8, 7) US ('wikidata', 'Q30')\n",
      "(8, 11) Taiwan ('wikidata', 'Q22502')\n",
      "(9, 1) Washington ('wikidata', 'Q61')\n",
      "(9, 9) Taiwan ('wikidata', 'Q22502')\n",
      "(9, 15) Taipei ('wikidata', 'Q1867')\n",
      "(9, 17) Beijing ('wikidata', 'Q956')\n"
     ]
    }
   ],
   "source": [
    "for sentence in sentences:\n",
    "    for token in sentence['tokens']:\n",
    "        if 'entity_id' in token:\n",
    "            print((sentence['index'], token['index']), token['originalText'], token['entity_id'])"
   ]
  },
  {
   "cell_type": "markdown",
   "metadata": {},
   "source": [
    "## From Author's Parsed Data"
   ]
  },
  {
   "cell_type": "code",
   "execution_count": 7,
   "metadata": {},
   "outputs": [],
   "source": [
    "import json\n",
    "parsed_data_path = '../data/data-from-authors/train_data/AFP_ENG_20090609.0525.json'\n",
    "parsed_data = json.load(open(parsed_data_path, 'r'))\n",
    "sentences = util.sentences_from_parsed(parsed_data['text'])\n",
    "coref_chains = util.chains_from_parsed(parsed_data['cluster_json'])"
   ]
  },
  {
   "cell_type": "code",
   "execution_count": 8,
   "metadata": {},
   "outputs": [],
   "source": [
    "ee = entity_extractor.EntityExtractor.from_parsed_data(parsed_data['named_entity'])\n",
    "entity_extractor.merge_people_by_last_name(ee)\n",
    "annotate.mark_entities(sentences, ee)\n",
    "annotate.mark_coref_mentions(sentences, coref_chains)"
   ]
  },
  {
   "cell_type": "code",
   "execution_count": 9,
   "metadata": {},
   "outputs": [
    {
     "name": "stdout",
     "output_type": "stream",
     "text": [
      "(0, 1) EU ('wikidata', 'Q458')\n",
      "(1, 1) EU ('wikidata', 'Q40901196')\n",
      "(1, 2) Health ('wikidata', 'Q40901196')\n",
      "(1, 4) Androulla ('wikidata', 'Q21450206')\n",
      "(1, 5) Vassiliou ('wikidata', 'Q21450206')\n",
      "(1, 12) European ('wikidata', 'Q1286')\n",
      "(2, 33) a ('wikidata', 'Q458')\n",
      "(2, 34) meeting ('wikidata', 'Q458')\n",
      "(2, 35) of ('wikidata', 'Q458')\n",
      "(2, 36) EU ('wikidata', 'Q458')\n",
      "(2, 37) health ('wikidata', 'Q458')\n",
      "(2, 38) ministers ('wikidata', 'Q458')\n",
      "(2, 40) Luxembourg ('wikidata', 'Q32')\n",
      "(5, 5) World ('wikidata', 'Q7817')\n",
      "(5, 6) Health ('wikidata', 'Q7817')\n",
      "(5, 7) Organisation ('wikidata', 'Q7817')\n",
      "(5, 33) Vassiliou ('wikidata', 'Q21450206')\n",
      "(7, 24) April ('wikidata', 'Q7817')\n",
      "(7, 26) WHO ('wikidata', 'Q7817')\n",
      "(9, 40) the ('wikidata', 'Q828')\n",
      "(9, 41) Americas ('wikidata', 'Q828')\n",
      "(10, 15) Mexico ('wikidata', 'Q96')\n",
      "(10, 22) the ('wikidata', 'Q828')\n",
      "(10, 23) Americas ('wikidata', 'Q828')\n",
      "(11, 1) German ('wikidata', 'Q188')\n",
      "(11, 4) Ulla ('wikidata', 'Q15240355')\n",
      "(11, 5) Schmidt ('wikidata', 'Q15240355')\n",
      "(11, 8) the ('wikidata', 'Q458')\n",
      "(11, 9) meeting ('wikidata', 'Q458')\n",
      "(11, 11) Luxembourg ('wikidata', 'Q32')\n",
      "(11, 19) European ('wikidata', 'Q1286')\n",
      "(12, 25) it ('wikidata', 'Q458')\n",
      "(13, 1) Schmidt ('wikidata', 'Q15240355')\n",
      "(13, 3) European ('wikidata', 'Q1286')\n",
      "(14, 4) WHO ('wikidata', 'Q7817')\n"
     ]
    }
   ],
   "source": [
    "for sentence in sentences:\n",
    "    for token in sentence['tokens']:\n",
    "        if 'entity_id' in token:\n",
    "            print((sentence['index'], token['index']), token['originalText'], token['entity_id'])"
   ]
  }
 ],
 "metadata": {
  "kernelspec": {
   "display_name": "Python 3",
   "language": "python",
   "name": "python3"
  },
  "language_info": {
   "codemirror_mode": {
    "name": "ipython",
    "version": 3
   },
   "file_extension": ".py",
   "mimetype": "text/x-python",
   "name": "python",
   "nbconvert_exporter": "python",
   "pygments_lexer": "ipython3",
   "version": "3.6.3"
  }
 },
 "nbformat": 4,
 "nbformat_minor": 2
}
