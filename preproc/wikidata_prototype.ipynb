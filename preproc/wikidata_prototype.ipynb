{
 "cells": [
  {
   "cell_type": "markdown",
   "metadata": {},
   "source": [
    "# Wikidata Entity Search and Retrieval\n",
    "\n",
    "This notebook is prototypes the methods needs to search for and retrieve entities from Wikidata (using instead Freebase).\n",
    "\n",
    "We are using the popular Python `requests` library to make HTTP requests on the Wikidata api endpoint (`https://wikidata.org/w/api.php`).\n",
    "\n",
    "Documentation for MediaWiki/WikiData API endpoints:\n",
    " - Search - https://www.wikidata.org/w/api.php?action=help&modules=wbsearchentities\n",
    " - Get entity - https://www.wikidata.org/w/api.php?action=help&modules=wbgetentities "
   ]
  },
  {
   "cell_type": "code",
   "execution_count": 1,
   "metadata": {},
   "outputs": [],
   "source": [
    "import requests\n",
    "\n",
    "wikidata_api_url = 'https://wikidata.org/w/api.php'\n",
    "\n",
    "search_entity_action = lambda term: {\n",
    "    'action': 'wbsearchentities',\n",
    "    'language': 'en',\n",
    "    'strictlanguage': True,\n",
    "    'type': 'item',\n",
    "    'limit': 5,\n",
    "    'format': 'json',\n",
    "    'search': term\n",
    "}\n",
    "\n",
    "get_entity_action = lambda eid: {\n",
    "    'action': 'wbgetentities',\n",
    "    'languages': 'en',\n",
    "    'props': 'labels|descriptions|aliases',\n",
    "    'format': 'json',\n",
    "    'ids': eid\n",
    "}\n",
    "\n",
    "def search(term):\n",
    "    resp = requests.get(wikidata_api_url, params=search_entity_action(term))\n",
    "    return resp\n",
    "\n",
    "def get(entity_id):\n",
    "    resp = requests.get(wikidata_api_url, params=get_entity_action(entity_id))\n",
    "    return resp"
   ]
  },
  {
   "cell_type": "markdown",
   "metadata": {},
   "source": [
    "Let's search for 'U.S. State Department' and take a look at the response."
   ]
  },
  {
   "cell_type": "code",
   "execution_count": 14,
   "metadata": {},
   "outputs": [
    {
     "data": {
      "text/plain": [
       "dict_keys(['searchinfo', 'search', 'success'])"
      ]
     },
     "execution_count": 14,
     "metadata": {},
     "output_type": "execute_result"
    }
   ],
   "source": [
    "r = search('U.S. State Department')\n",
    "data = r.json()\n",
    "data.keys()"
   ]
  },
  {
   "cell_type": "code",
   "execution_count": 15,
   "metadata": {},
   "outputs": [
    {
     "data": {
      "text/plain": [
       "{'search': [{'aliases': ['U.S. State Department'],\n",
       "   'concepturi': 'http://www.wikidata.org/entity/Q789915',\n",
       "   'description': 'United States federal executive department\\xa0responsible for foreign affairs',\n",
       "   'id': 'Q789915',\n",
       "   'label': 'United States Department of State',\n",
       "   'match': {'language': 'en',\n",
       "    'text': 'U.S. State Department',\n",
       "    'type': 'alias'},\n",
       "   'pageid': 742928,\n",
       "   'repository': '',\n",
       "   'title': 'Q789915',\n",
       "   'url': '//www.wikidata.org/wiki/Q789915'},\n",
       "  {'concepturi': 'http://www.wikidata.org/entity/Q2170633',\n",
       "   'description': 'Wikimedia list article',\n",
       "   'id': 'Q2170633',\n",
       "   'label': 'U.S. State Department list of Foreign Terrorist Organizations',\n",
       "   'match': {'language': 'en',\n",
       "    'text': 'U.S. State Department list of Foreign Terrorist Organizations',\n",
       "    'type': 'label'},\n",
       "   'pageid': 2095717,\n",
       "   'repository': '',\n",
       "   'title': 'Q2170633',\n",
       "   'url': '//www.wikidata.org/wiki/Q2170633'},\n",
       "  {'concepturi': 'http://www.wikidata.org/entity/Q42020102',\n",
       "   'description': 'scientific article published on January 2005',\n",
       "   'id': 'Q42020102',\n",
       "   'label': 'U.S. State department accuses several nations of having offensive biological weapons programs.',\n",
       "   'match': {'language': 'en',\n",
       "    'text': 'U.S. State department accuses several nations of having offensive biological weapons programs.',\n",
       "    'type': 'label'},\n",
       "   'pageid': 43320345,\n",
       "   'repository': '',\n",
       "   'title': 'Q42020102',\n",
       "   'url': '//www.wikidata.org/wiki/Q42020102'}],\n",
       " 'searchinfo': {'search': 'U.S. State Department'},\n",
       " 'success': 1}"
      ]
     },
     "execution_count": 15,
     "metadata": {},
     "output_type": "execute_result"
    }
   ],
   "source": [
    "data"
   ]
  },
  {
   "cell_type": "code",
   "execution_count": 13,
   "metadata": {},
   "outputs": [
    {
     "data": {
      "text/plain": [
       "{'aliases': ['U.S. State Department'],\n",
       " 'concepturi': 'http://www.wikidata.org/entity/Q789915',\n",
       " 'description': 'United States federal executive department\\xa0responsible for foreign affairs',\n",
       " 'id': 'Q789915',\n",
       " 'label': 'United States Department of State',\n",
       " 'match': {'language': 'en', 'text': 'U.S. State Department', 'type': 'alias'},\n",
       " 'pageid': 742928,\n",
       " 'repository': '',\n",
       " 'title': 'Q789915',\n",
       " 'url': '//www.wikidata.org/wiki/Q789915'}"
      ]
     },
     "execution_count": 13,
     "metadata": {},
     "output_type": "execute_result"
    }
   ],
   "source": [
    "data['search'][0]"
   ]
  }
 ],
 "metadata": {
  "kernelspec": {
   "display_name": "Python 3",
   "language": "python",
   "name": "python3"
  },
  "language_info": {
   "codemirror_mode": {
    "name": "ipython",
    "version": 3
   },
   "file_extension": ".py",
   "mimetype": "text/x-python",
   "name": "python",
   "nbconvert_exporter": "python",
   "pygments_lexer": "ipython3",
   "version": "3.6.3"
  }
 },
 "nbformat": 4,
 "nbformat_minor": 2
}
